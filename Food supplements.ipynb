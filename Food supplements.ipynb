{
 "cells": [
  {
   "cell_type": "code",
   "execution_count": 2,
   "id": "786c7785",
   "metadata": {},
   "outputs": [],
   "source": [
    "import pandas as pd\n",
    "import numpy as np\n",
    "from sklearn.preprocessing import MinMaxScaler\n",
    "from keras.models import Sequential\n",
    "from keras.layers import LSTM, Dense, Conv1D, MaxPooling1D, Flatten, Input\n",
    "from keras.optimizers import Adam\n",
    "from keras.metrics import RootMeanSquaredError\n",
    "import tensorflow as tf\n",
    "import matplotlib.pyplot as plt"
   ]
  },
  {
   "cell_type": "code",
   "execution_count": 3,
   "id": "0ebdc262",
   "metadata": {},
   "outputs": [],
   "source": [
    "# Load the data\n",
    "df = pd.read_csv('food_supplements.csv')\n",
    "#print(df.head(10))\n",
    "\n",
    "# Convert 'Sold_date' to datetime format and set as index\n",
    "df['Sold_date'] = pd.to_datetime(df['Sold_date'], format='%m/%d/%y')\n",
    "df.set_index('Sold_date', inplace=True)\n",
    "#print(df.head(35))\n",
    "\n"
   ]
  },
  {
   "cell_type": "code",
   "execution_count": 4,
   "id": "aad9debd",
   "metadata": {},
   "outputs": [
    {
     "name": "stdout",
     "output_type": "stream",
     "text": [
      "Product_details  A1 Dietary Supplement Cap 30&#039;s  Ampalaya Plus 550mg Cap  \\\n",
      "Sold_date                                                                       \n",
      "2020-12-20                                       0.0                      0.0   \n",
      "2020-12-27                                       0.0                      0.0   \n",
      "2021-01-03                                       0.0                      0.0   \n",
      "2021-01-10                                      10.0                      0.0   \n",
      "2021-01-17                                       0.0                      0.0   \n",
      "2021-01-24                                      11.0                      0.0   \n",
      "2021-01-31                                       2.0                      0.0   \n",
      "2021-02-07                                       0.0                      0.0   \n",
      "2021-02-14                                       0.0                      0.0   \n",
      "2021-02-21                                       0.0                      0.0   \n",
      "\n",
      "Product_details  Apple Cider Vinegar Cap 30&#039;s  Belonga Gold Capsule  \\\n",
      "Sold_date                                                                  \n",
      "2020-12-20                                     0.0                   0.0   \n",
      "2020-12-27                                     0.0                   0.0   \n",
      "2021-01-03                                     0.0                   0.0   \n",
      "2021-01-10                                     0.0                   0.0   \n",
      "2021-01-17                                     0.0                   0.0   \n",
      "2021-01-24                                     0.0                   0.0   \n",
      "2021-01-31                                     0.0                   0.0   \n",
      "2021-02-07                                     0.0                   0.0   \n",
      "2021-02-14                                     0.0                   0.0   \n",
      "2021-02-21                                     0.0                   0.0   \n",
      "\n",
      "Product_details  Bugayana  C- Lium Fibre/ Fiber Sachet 5g 30&#039;s  \\\n",
      "Sold_date                                                             \n",
      "2020-12-20            0.0                                       0.0   \n",
      "2020-12-27            5.0                                       0.0   \n",
      "2021-01-03            5.0                                       0.0   \n",
      "2021-01-10            0.0                                       0.0   \n",
      "2021-01-17            1.0                                       0.0   \n",
      "2021-01-24            0.0                                       0.0   \n",
      "2021-01-31            0.0                                       0.0   \n",
      "2021-02-07            0.0                                       0.0   \n",
      "2021-02-14            0.0                                       0.0   \n",
      "2021-02-21            0.0                                       0.0   \n",
      "\n",
      "Product_details  Cardiclear Fish Oil 1000mg 60&#039;s  \\\n",
      "Sold_date                                               \n",
      "2020-12-20                                        0.0   \n",
      "2020-12-27                                        0.0   \n",
      "2021-01-03                                        0.0   \n",
      "2021-01-10                                        0.0   \n",
      "2021-01-17                                        0.0   \n",
      "2021-01-24                                        0.0   \n",
      "2021-01-31                                        0.0   \n",
      "2021-02-07                                        4.0   \n",
      "2021-02-14                                        0.0   \n",
      "2021-02-21                                        1.0   \n",
      "\n",
      "Product_details  Cardiplus Capsule 50&#039;s  Cervicare 500mg Cap  \\\n",
      "Sold_date                                                           \n",
      "2020-12-20                               0.0                  0.0   \n",
      "2020-12-27                               0.0                  0.0   \n",
      "2021-01-03                               0.0                  0.0   \n",
      "2021-01-10                               0.0                  0.0   \n",
      "2021-01-17                               0.0                  0.0   \n",
      "2021-01-24                               0.0                  0.0   \n",
      "2021-01-31                               0.0                  0.0   \n",
      "2021-02-07                               0.0                  0.0   \n",
      "2021-02-14                               0.0                  0.0   \n",
      "2021-02-21                               0.0                  0.0   \n",
      "\n",
      "Product_details  Clear Sight Capsule 20&#039;s  ...  U-Aid 500mg Capsule  \\\n",
      "Sold_date                                       ...                        \n",
      "2020-12-20                                 0.0  ...                  0.0   \n",
      "2020-12-27                                 0.0  ...                  0.0   \n",
      "2021-01-03                                 0.0  ...                  0.0   \n",
      "2021-01-10                                 0.0  ...                  0.0   \n",
      "2021-01-17                                 0.0  ...                  0.0   \n",
      "2021-01-24                                 0.0  ...                  0.0   \n",
      "2021-01-31                                 0.0  ...                  0.0   \n",
      "2021-02-07                                 0.0  ...                  0.0   \n",
      "2021-02-14                                 0.0  ...                  0.0   \n",
      "2021-02-21                                 0.0  ...                  0.0   \n",
      "\n",
      "Product_details  Vino De Quina Pagoda 330ml  \\\n",
      "Sold_date                                     \n",
      "2020-12-20                              0.0   \n",
      "2020-12-27                              0.0   \n",
      "2021-01-03                              0.0   \n",
      "2021-01-10                              0.0   \n",
      "2021-01-17                              0.0   \n",
      "2021-01-24                              0.0   \n",
      "2021-01-31                              0.0   \n",
      "2021-02-07                              0.0   \n",
      "2021-02-14                              0.0   \n",
      "2021-02-21                              0.0   \n",
      "\n",
      "Product_details  Virgin Coconut Oil AG Pacific 260ml  \\\n",
      "Sold_date                                              \n",
      "2020-12-20                                       0.0   \n",
      "2020-12-27                                       0.0   \n",
      "2021-01-03                                       0.0   \n",
      "2021-01-10                                       0.0   \n",
      "2021-01-17                                       0.0   \n",
      "2021-01-24                                       0.0   \n",
      "2021-01-31                                       0.0   \n",
      "2021-02-07                                       0.0   \n",
      "2021-02-14                                       0.0   \n",
      "2021-02-21                                       0.0   \n",
      "\n",
      "Product_details  Virgin Coconut Oil Coco Life 100ml  \\\n",
      "Sold_date                                             \n",
      "2020-12-20                                      0.0   \n",
      "2020-12-27                                      0.0   \n",
      "2021-01-03                                      0.0   \n",
      "2021-01-10                                      0.0   \n",
      "2021-01-17                                      0.0   \n",
      "2021-01-24                                      0.0   \n",
      "2021-01-31                                      0.0   \n",
      "2021-02-07                                      0.0   \n",
      "2021-02-14                                      0.0   \n",
      "2021-02-21                                      0.0   \n",
      "\n",
      "Product_details  Visionex Plus 500mg Capsule 100&#039;s  Womens Care Capsule  \\\n",
      "Sold_date                                                                      \n",
      "2020-12-20                                          0.0                  0.0   \n",
      "2020-12-27                                          0.0                  0.0   \n",
      "2021-01-03                                          0.0                  0.0   \n",
      "2021-01-10                                          0.0                  0.0   \n",
      "2021-01-17                                          0.0                  0.0   \n",
      "2021-01-24                                          0.0                  0.0   \n",
      "2021-01-31                                          0.0                  0.0   \n",
      "2021-02-07                                          0.0                  0.0   \n",
      "2021-02-14                                          0.0                  0.0   \n",
      "2021-02-21                                          0.0                  0.0   \n",
      "\n",
      "Product_details  Xanthone GOLD Capsule  Xanthone Plus 550mg Capsule  \\\n",
      "Sold_date                                                             \n",
      "2020-12-20                         0.0                          0.0   \n",
      "2020-12-27                         0.0                          0.0   \n",
      "2021-01-03                         0.0                         15.0   \n",
      "2021-01-10                         0.0                         10.0   \n",
      "2021-01-17                         0.0                         11.0   \n",
      "2021-01-24                         0.0                          6.0   \n",
      "2021-01-31                         0.0                         17.0   \n",
      "2021-02-07                         0.0                         10.0   \n",
      "2021-02-14                         0.0                         24.0   \n",
      "2021-02-21                         0.0                          7.0   \n",
      "\n",
      "Product_details  Yaki 500mg Capsule  Yiling Capsule 60&#039;s  \n",
      "Sold_date                                                      \n",
      "2020-12-20                      0.0                       0.0  \n",
      "2020-12-27                      0.0                       0.0  \n",
      "2021-01-03                     10.0                       0.0  \n",
      "2021-01-10                      0.0                       0.0  \n",
      "2021-01-17                      0.0                       0.0  \n",
      "2021-01-24                      0.0                       0.0  \n",
      "2021-01-31                      0.0                       0.0  \n",
      "2021-02-07                      0.0                       0.0  \n",
      "2021-02-14                      0.0                       0.0  \n",
      "2021-02-21                      0.0                       0.0  \n",
      "\n",
      "[10 rows x 92 columns]\n"
     ]
    }
   ],
   "source": [
    "# Aggregate sales data on a weekly basis for each product\n",
    "weekly_data = df.pivot_table(values='Sold_quantity', index='Sold_date', \n",
    "                             columns='Product_details', aggfunc='sum').resample('W').sum()\n",
    "print(weekly_data.head(10))\n",
    "# Extract data for the specific product \"Panyawan Plus SCED 450mg 100's\"\n",
    "#product_name = \"MX3 Capsule\"\n",
    "#product_data = weekly_data[[product_name]]\n",
    "\n",
    "# Display the first 10 rows of the specific product's sales data as text\n",
    "#print(product_data.head(10))\n",
    "#import matplotlib.pyplot as plt\n",
    "\n",
    "# Plot the original data\n",
    "#plt.figure(figsize=(10, 6))\n",
    "#plt.plot(df.index, df['Sold_quantity'], label='Sold Quantity')\n",
    "#plt.title('Original Sales Data')\n",
    "#plt.xlabel('Date')\n",
    "#plt.ylabel('Sold Quantity')\n",
    "#plt.legend()\n",
    "#plt.show()\n"
   ]
  },
  {
   "cell_type": "code",
   "execution_count": 5,
   "id": "f15bdc29",
   "metadata": {},
   "outputs": [
    {
     "name": "stdout",
     "output_type": "stream",
     "text": [
      "Sold_date\n",
      "2020-12-20    0.000000\n",
      "2020-12-27    0.000000\n",
      "2021-01-03    0.228261\n",
      "2021-01-10    0.413043\n",
      "2021-01-17    0.271739\n",
      "                ...   \n",
      "2024-01-07    0.173913\n",
      "2024-01-14    0.347826\n",
      "2024-01-21    0.021739\n",
      "2024-01-28    0.239130\n",
      "2024-02-04    0.076087\n",
      "Freq: W-SUN, Name: MX3 Capsule, Length: 164, dtype: float64\n"
     ]
    }
   ],
   "source": [
    "# Normalize the sales data\n",
    "scaler = MinMaxScaler()\n",
    "weekly_data_scaled = scaler.fit_transform(weekly_data)\n",
    "weekly_data_scaled = pd.DataFrame(weekly_data_scaled, index=weekly_data.index, columns=weekly_data.columns)\n",
    "\n",
    "product_name = 'MX3 Capsule'  # Replace 'Your_Product_Name' with the name of the product you're interested in\n",
    "scaled_product_data = weekly_data_scaled[product_name]\n",
    "print(scaled_product_data)\n",
    "\n",
    "\n",
    "\n"
   ]
  },
  {
   "cell_type": "code",
   "execution_count": 6,
   "id": "1dfe5397",
   "metadata": {},
   "outputs": [],
   "source": [
    "# Prepare data for LSTM\n",
    "def create_sequences(data, sequence_length):\n",
    "    x = []\n",
    "    y = []\n",
    "    for i in range(len(data) - sequence_length):\n",
    "        x.append(data.iloc[i:i + sequence_length].values)\n",
    "        y.append(data.iloc[i + sequence_length].values)\n",
    "    return np.array(x), np.array(y)\n",
    "\n",
    "\n"
   ]
  },
  {
   "cell_type": "code",
   "execution_count": 7,
   "id": "c11069f1",
   "metadata": {},
   "outputs": [],
   "source": [
    "sequence_length = 2  # Number of weeks used to predict the next week\n",
    "x_lstm, y_lstm = create_sequences(weekly_data_scaled, sequence_length)\n"
   ]
  },
  {
   "cell_type": "code",
   "execution_count": 8,
   "id": "a0891c6b",
   "metadata": {},
   "outputs": [],
   "source": [
    "# Define the LSTM model to extract features\n",
    "lstm_model = Sequential([\n",
    "    LSTM(20, activation='tanh', recurrent_activation='sigmoid'),\n",
    "])"
   ]
  },
  {
   "cell_type": "code",
   "execution_count": 9,
   "id": "7d5fb264",
   "metadata": {},
   "outputs": [
    {
     "name": "stdout",
     "output_type": "stream",
     "text": [
      "\u001b[1m6/6\u001b[0m \u001b[32m━━━━━━━━━━━━━━━━━━━━\u001b[0m\u001b[37m\u001b[0m \u001b[1m0s\u001b[0m 8ms/step  \n"
     ]
    }
   ],
   "source": [
    "# Extract features using LSTM\n",
    "features = lstm_model.predict(x_lstm)\n"
   ]
  },
  {
   "cell_type": "code",
   "execution_count": 10,
   "id": "8eedf9a4",
   "metadata": {},
   "outputs": [],
   "source": [
    "# Define the CNN model for forecasting\n",
    "input_shape = (features.shape[1], features.shape[2]) if len(features.shape) == 3 else (features.shape[1], 1)  # Adjust input shape\n",
    "cnn_model = Sequential([\n",
    "    Input(shape=input_shape),\n",
    "    Conv1D(64, 3, activation='relu'),\n",
    "    MaxPooling1D(2),\n",
    "    Conv1D(64, 3, activation='relu'),\n",
    "    MaxPooling1D(2),\n",
    "    Flatten(),\n",
    "    Dense(len(weekly_data.columns))\n",
    "])"
   ]
  },
  {
   "cell_type": "code",
   "execution_count": 11,
   "id": "aae388f4",
   "metadata": {},
   "outputs": [],
   "source": [
    "# Compile the CNN model\n",
    "cnn_model.compile(optimizer=Adam(), loss='mean_squared_error', metrics=[RootMeanSquaredError()])\n"
   ]
  },
  {
   "cell_type": "code",
   "execution_count": 12,
   "id": "328a92f9",
   "metadata": {},
   "outputs": [
    {
     "data": {
      "text/html": [
       "<pre style=\"white-space:pre;overflow-x:auto;line-height:normal;font-family:Menlo,'DejaVu Sans Mono',consolas,'Courier New',monospace\"><span style=\"font-weight: bold\">Model: \"sequential_1\"</span>\n",
       "</pre>\n"
      ],
      "text/plain": [
       "\u001b[1mModel: \"sequential_1\"\u001b[0m\n"
      ]
     },
     "metadata": {},
     "output_type": "display_data"
    },
    {
     "data": {
      "text/html": [
       "<pre style=\"white-space:pre;overflow-x:auto;line-height:normal;font-family:Menlo,'DejaVu Sans Mono',consolas,'Courier New',monospace\">┏━━━━━━━━━━━━━━━━━━━━━━━━━━━━━━━━━┳━━━━━━━━━━━━━━━━━━━━━━━━┳━━━━━━━━━━━━━━━┓\n",
       "┃<span style=\"font-weight: bold\"> Layer (type)                    </span>┃<span style=\"font-weight: bold\"> Output Shape           </span>┃<span style=\"font-weight: bold\">       Param # </span>┃\n",
       "┡━━━━━━━━━━━━━━━━━━━━━━━━━━━━━━━━━╇━━━━━━━━━━━━━━━━━━━━━━━━╇━━━━━━━━━━━━━━━┩\n",
       "│ conv1d (<span style=\"color: #0087ff; text-decoration-color: #0087ff\">Conv1D</span>)                 │ (<span style=\"color: #00d7ff; text-decoration-color: #00d7ff\">None</span>, <span style=\"color: #00af00; text-decoration-color: #00af00\">18</span>, <span style=\"color: #00af00; text-decoration-color: #00af00\">64</span>)         │           <span style=\"color: #00af00; text-decoration-color: #00af00\">256</span> │\n",
       "├─────────────────────────────────┼────────────────────────┼───────────────┤\n",
       "│ max_pooling1d (<span style=\"color: #0087ff; text-decoration-color: #0087ff\">MaxPooling1D</span>)    │ (<span style=\"color: #00d7ff; text-decoration-color: #00d7ff\">None</span>, <span style=\"color: #00af00; text-decoration-color: #00af00\">9</span>, <span style=\"color: #00af00; text-decoration-color: #00af00\">64</span>)          │             <span style=\"color: #00af00; text-decoration-color: #00af00\">0</span> │\n",
       "├─────────────────────────────────┼────────────────────────┼───────────────┤\n",
       "│ conv1d_1 (<span style=\"color: #0087ff; text-decoration-color: #0087ff\">Conv1D</span>)               │ (<span style=\"color: #00d7ff; text-decoration-color: #00d7ff\">None</span>, <span style=\"color: #00af00; text-decoration-color: #00af00\">7</span>, <span style=\"color: #00af00; text-decoration-color: #00af00\">64</span>)          │        <span style=\"color: #00af00; text-decoration-color: #00af00\">12,352</span> │\n",
       "├─────────────────────────────────┼────────────────────────┼───────────────┤\n",
       "│ max_pooling1d_1 (<span style=\"color: #0087ff; text-decoration-color: #0087ff\">MaxPooling1D</span>)  │ (<span style=\"color: #00d7ff; text-decoration-color: #00d7ff\">None</span>, <span style=\"color: #00af00; text-decoration-color: #00af00\">3</span>, <span style=\"color: #00af00; text-decoration-color: #00af00\">64</span>)          │             <span style=\"color: #00af00; text-decoration-color: #00af00\">0</span> │\n",
       "├─────────────────────────────────┼────────────────────────┼───────────────┤\n",
       "│ flatten (<span style=\"color: #0087ff; text-decoration-color: #0087ff\">Flatten</span>)               │ (<span style=\"color: #00d7ff; text-decoration-color: #00d7ff\">None</span>, <span style=\"color: #00af00; text-decoration-color: #00af00\">192</span>)            │             <span style=\"color: #00af00; text-decoration-color: #00af00\">0</span> │\n",
       "├─────────────────────────────────┼────────────────────────┼───────────────┤\n",
       "│ dense (<span style=\"color: #0087ff; text-decoration-color: #0087ff\">Dense</span>)                   │ (<span style=\"color: #00d7ff; text-decoration-color: #00d7ff\">None</span>, <span style=\"color: #00af00; text-decoration-color: #00af00\">92</span>)             │        <span style=\"color: #00af00; text-decoration-color: #00af00\">17,756</span> │\n",
       "└─────────────────────────────────┴────────────────────────┴───────────────┘\n",
       "</pre>\n"
      ],
      "text/plain": [
       "┏━━━━━━━━━━━━━━━━━━━━━━━━━━━━━━━━━┳━━━━━━━━━━━━━━━━━━━━━━━━┳━━━━━━━━━━━━━━━┓\n",
       "┃\u001b[1m \u001b[0m\u001b[1mLayer (type)                   \u001b[0m\u001b[1m \u001b[0m┃\u001b[1m \u001b[0m\u001b[1mOutput Shape          \u001b[0m\u001b[1m \u001b[0m┃\u001b[1m \u001b[0m\u001b[1m      Param #\u001b[0m\u001b[1m \u001b[0m┃\n",
       "┡━━━━━━━━━━━━━━━━━━━━━━━━━━━━━━━━━╇━━━━━━━━━━━━━━━━━━━━━━━━╇━━━━━━━━━━━━━━━┩\n",
       "│ conv1d (\u001b[38;5;33mConv1D\u001b[0m)                 │ (\u001b[38;5;45mNone\u001b[0m, \u001b[38;5;34m18\u001b[0m, \u001b[38;5;34m64\u001b[0m)         │           \u001b[38;5;34m256\u001b[0m │\n",
       "├─────────────────────────────────┼────────────────────────┼───────────────┤\n",
       "│ max_pooling1d (\u001b[38;5;33mMaxPooling1D\u001b[0m)    │ (\u001b[38;5;45mNone\u001b[0m, \u001b[38;5;34m9\u001b[0m, \u001b[38;5;34m64\u001b[0m)          │             \u001b[38;5;34m0\u001b[0m │\n",
       "├─────────────────────────────────┼────────────────────────┼───────────────┤\n",
       "│ conv1d_1 (\u001b[38;5;33mConv1D\u001b[0m)               │ (\u001b[38;5;45mNone\u001b[0m, \u001b[38;5;34m7\u001b[0m, \u001b[38;5;34m64\u001b[0m)          │        \u001b[38;5;34m12,352\u001b[0m │\n",
       "├─────────────────────────────────┼────────────────────────┼───────────────┤\n",
       "│ max_pooling1d_1 (\u001b[38;5;33mMaxPooling1D\u001b[0m)  │ (\u001b[38;5;45mNone\u001b[0m, \u001b[38;5;34m3\u001b[0m, \u001b[38;5;34m64\u001b[0m)          │             \u001b[38;5;34m0\u001b[0m │\n",
       "├─────────────────────────────────┼────────────────────────┼───────────────┤\n",
       "│ flatten (\u001b[38;5;33mFlatten\u001b[0m)               │ (\u001b[38;5;45mNone\u001b[0m, \u001b[38;5;34m192\u001b[0m)            │             \u001b[38;5;34m0\u001b[0m │\n",
       "├─────────────────────────────────┼────────────────────────┼───────────────┤\n",
       "│ dense (\u001b[38;5;33mDense\u001b[0m)                   │ (\u001b[38;5;45mNone\u001b[0m, \u001b[38;5;34m92\u001b[0m)             │        \u001b[38;5;34m17,756\u001b[0m │\n",
       "└─────────────────────────────────┴────────────────────────┴───────────────┘\n"
      ]
     },
     "metadata": {},
     "output_type": "display_data"
    },
    {
     "data": {
      "text/html": [
       "<pre style=\"white-space:pre;overflow-x:auto;line-height:normal;font-family:Menlo,'DejaVu Sans Mono',consolas,'Courier New',monospace\"><span style=\"font-weight: bold\"> Total params: </span><span style=\"color: #00af00; text-decoration-color: #00af00\">30,364</span> (118.61 KB)\n",
       "</pre>\n"
      ],
      "text/plain": [
       "\u001b[1m Total params: \u001b[0m\u001b[38;5;34m30,364\u001b[0m (118.61 KB)\n"
      ]
     },
     "metadata": {},
     "output_type": "display_data"
    },
    {
     "data": {
      "text/html": [
       "<pre style=\"white-space:pre;overflow-x:auto;line-height:normal;font-family:Menlo,'DejaVu Sans Mono',consolas,'Courier New',monospace\"><span style=\"font-weight: bold\"> Trainable params: </span><span style=\"color: #00af00; text-decoration-color: #00af00\">30,364</span> (118.61 KB)\n",
       "</pre>\n"
      ],
      "text/plain": [
       "\u001b[1m Trainable params: \u001b[0m\u001b[38;5;34m30,364\u001b[0m (118.61 KB)\n"
      ]
     },
     "metadata": {},
     "output_type": "display_data"
    },
    {
     "data": {
      "text/html": [
       "<pre style=\"white-space:pre;overflow-x:auto;line-height:normal;font-family:Menlo,'DejaVu Sans Mono',consolas,'Courier New',monospace\"><span style=\"font-weight: bold\"> Non-trainable params: </span><span style=\"color: #00af00; text-decoration-color: #00af00\">0</span> (0.00 B)\n",
       "</pre>\n"
      ],
      "text/plain": [
       "\u001b[1m Non-trainable params: \u001b[0m\u001b[38;5;34m0\u001b[0m (0.00 B)\n"
      ]
     },
     "metadata": {},
     "output_type": "display_data"
    }
   ],
   "source": [
    "# Model summary\n",
    "cnn_model.summary()\n"
   ]
  },
  {
   "cell_type": "code",
   "execution_count": 13,
   "id": "b694a956",
   "metadata": {},
   "outputs": [
    {
     "name": "stdout",
     "output_type": "stream",
     "text": [
      "Epoch 1/100\n",
      "\u001b[1m5/5\u001b[0m \u001b[32m━━━━━━━━━━━━━━━━━━━━\u001b[0m\u001b[37m\u001b[0m \u001b[1m0s\u001b[0m 14ms/step - loss: 0.0450 - root_mean_squared_error: 0.2122 - val_loss: 0.0594 - val_root_mean_squared_error: 0.2438\n",
      "Epoch 2/100\n",
      "\u001b[1m5/5\u001b[0m \u001b[32m━━━━━━━━━━━━━━━━━━━━\u001b[0m\u001b[37m\u001b[0m \u001b[1m0s\u001b[0m 3ms/step - loss: 0.0403 - root_mean_squared_error: 0.2008 - val_loss: 0.0527 - val_root_mean_squared_error: 0.2297\n",
      "Epoch 3/100\n",
      "\u001b[1m5/5\u001b[0m \u001b[32m━━━━━━━━━━━━━━━━━━━━\u001b[0m\u001b[37m\u001b[0m \u001b[1m0s\u001b[0m 2ms/step - loss: 0.0330 - root_mean_squared_error: 0.1818 - val_loss: 0.0455 - val_root_mean_squared_error: 0.2134\n",
      "Epoch 4/100\n",
      "\u001b[1m5/5\u001b[0m \u001b[32m━━━━━━━━━━━━━━━━━━━━\u001b[0m\u001b[37m\u001b[0m \u001b[1m0s\u001b[0m 3ms/step - loss: 0.0294 - root_mean_squared_error: 0.1714 - val_loss: 0.0412 - val_root_mean_squared_error: 0.2029\n",
      "Epoch 5/100\n",
      "\u001b[1m5/5\u001b[0m \u001b[32m━━━━━━━━━━━━━━━━━━━━\u001b[0m\u001b[37m\u001b[0m \u001b[1m0s\u001b[0m 3ms/step - loss: 0.0274 - root_mean_squared_error: 0.1654 - val_loss: 0.0414 - val_root_mean_squared_error: 0.2036\n",
      "Epoch 6/100\n",
      "\u001b[1m5/5\u001b[0m \u001b[32m━━━━━━━━━━━━━━━━━━━━\u001b[0m\u001b[37m\u001b[0m \u001b[1m0s\u001b[0m 3ms/step - loss: 0.0257 - root_mean_squared_error: 0.1602 - val_loss: 0.0426 - val_root_mean_squared_error: 0.2063\n",
      "Epoch 7/100\n",
      "\u001b[1m5/5\u001b[0m \u001b[32m━━━━━━━━━━━━━━━━━━━━\u001b[0m\u001b[37m\u001b[0m \u001b[1m0s\u001b[0m 3ms/step - loss: 0.0248 - root_mean_squared_error: 0.1574 - val_loss: 0.0440 - val_root_mean_squared_error: 0.2097\n",
      "Epoch 8/100\n",
      "\u001b[1m5/5\u001b[0m \u001b[32m━━━━━━━━━━━━━━━━━━━━\u001b[0m\u001b[37m\u001b[0m \u001b[1m0s\u001b[0m 3ms/step - loss: 0.0245 - root_mean_squared_error: 0.1565 - val_loss: 0.0445 - val_root_mean_squared_error: 0.2110\n",
      "Epoch 9/100\n",
      "\u001b[1m5/5\u001b[0m \u001b[32m━━━━━━━━━━━━━━━━━━━━\u001b[0m\u001b[37m\u001b[0m \u001b[1m0s\u001b[0m 3ms/step - loss: 0.0250 - root_mean_squared_error: 0.1580 - val_loss: 0.0442 - val_root_mean_squared_error: 0.2102\n",
      "Epoch 10/100\n",
      "\u001b[1m5/5\u001b[0m \u001b[32m━━━━━━━━━━━━━━━━━━━━\u001b[0m\u001b[37m\u001b[0m \u001b[1m0s\u001b[0m 3ms/step - loss: 0.0259 - root_mean_squared_error: 0.1610 - val_loss: 0.0438 - val_root_mean_squared_error: 0.2093\n",
      "Epoch 11/100\n",
      "\u001b[1m5/5\u001b[0m \u001b[32m━━━━━━━━━━━━━━━━━━━━\u001b[0m\u001b[37m\u001b[0m \u001b[1m0s\u001b[0m 3ms/step - loss: 0.0259 - root_mean_squared_error: 0.1609 - val_loss: 0.0437 - val_root_mean_squared_error: 0.2090\n",
      "Epoch 12/100\n",
      "\u001b[1m5/5\u001b[0m \u001b[32m━━━━━━━━━━━━━━━━━━━━\u001b[0m\u001b[37m\u001b[0m \u001b[1m0s\u001b[0m 3ms/step - loss: 0.0257 - root_mean_squared_error: 0.1603 - val_loss: 0.0433 - val_root_mean_squared_error: 0.2081\n",
      "Epoch 13/100\n",
      "\u001b[1m5/5\u001b[0m \u001b[32m━━━━━━━━━━━━━━━━━━━━\u001b[0m\u001b[37m\u001b[0m \u001b[1m0s\u001b[0m 3ms/step - loss: 0.0243 - root_mean_squared_error: 0.1556 - val_loss: 0.0426 - val_root_mean_squared_error: 0.2063\n",
      "Epoch 14/100\n",
      "\u001b[1m5/5\u001b[0m \u001b[32m━━━━━━━━━━━━━━━━━━━━\u001b[0m\u001b[37m\u001b[0m \u001b[1m0s\u001b[0m 3ms/step - loss: 0.0256 - root_mean_squared_error: 0.1601 - val_loss: 0.0425 - val_root_mean_squared_error: 0.2062\n",
      "Epoch 15/100\n",
      "\u001b[1m5/5\u001b[0m \u001b[32m━━━━━━━━━━━━━━━━━━━━\u001b[0m\u001b[37m\u001b[0m \u001b[1m0s\u001b[0m 3ms/step - loss: 0.0253 - root_mean_squared_error: 0.1591 - val_loss: 0.0428 - val_root_mean_squared_error: 0.2068\n",
      "Epoch 16/100\n",
      "\u001b[1m5/5\u001b[0m \u001b[32m━━━━━━━━━━━━━━━━━━━━\u001b[0m\u001b[37m\u001b[0m \u001b[1m0s\u001b[0m 4ms/step - loss: 0.0245 - root_mean_squared_error: 0.1566 - val_loss: 0.0431 - val_root_mean_squared_error: 0.2075\n",
      "Epoch 17/100\n",
      "\u001b[1m5/5\u001b[0m \u001b[32m━━━━━━━━━━━━━━━━━━━━\u001b[0m\u001b[37m\u001b[0m \u001b[1m0s\u001b[0m 3ms/step - loss: 0.0248 - root_mean_squared_error: 0.1574 - val_loss: 0.0436 - val_root_mean_squared_error: 0.2088\n",
      "Epoch 18/100\n",
      "\u001b[1m5/5\u001b[0m \u001b[32m━━━━━━━━━━━━━━━━━━━━\u001b[0m\u001b[37m\u001b[0m \u001b[1m0s\u001b[0m 3ms/step - loss: 0.0254 - root_mean_squared_error: 0.1592 - val_loss: 0.0438 - val_root_mean_squared_error: 0.2094\n",
      "Epoch 19/100\n",
      "\u001b[1m5/5\u001b[0m \u001b[32m━━━━━━━━━━━━━━━━━━━━\u001b[0m\u001b[37m\u001b[0m \u001b[1m0s\u001b[0m 3ms/step - loss: 0.0244 - root_mean_squared_error: 0.1562 - val_loss: 0.0438 - val_root_mean_squared_error: 0.2094\n",
      "Epoch 20/100\n",
      "\u001b[1m5/5\u001b[0m \u001b[32m━━━━━━━━━━━━━━━━━━━━\u001b[0m\u001b[37m\u001b[0m \u001b[1m0s\u001b[0m 3ms/step - loss: 0.0246 - root_mean_squared_error: 0.1568 - val_loss: 0.0435 - val_root_mean_squared_error: 0.2086\n",
      "Epoch 21/100\n",
      "\u001b[1m5/5\u001b[0m \u001b[32m━━━━━━━━━━━━━━━━━━━━\u001b[0m\u001b[37m\u001b[0m \u001b[1m0s\u001b[0m 3ms/step - loss: 0.0238 - root_mean_squared_error: 0.1544 - val_loss: 0.0428 - val_root_mean_squared_error: 0.2069\n",
      "Epoch 22/100\n",
      "\u001b[1m5/5\u001b[0m \u001b[32m━━━━━━━━━━━━━━━━━━━━\u001b[0m\u001b[37m\u001b[0m \u001b[1m0s\u001b[0m 3ms/step - loss: 0.0250 - root_mean_squared_error: 0.1581 - val_loss: 0.0426 - val_root_mean_squared_error: 0.2064\n",
      "Epoch 23/100\n",
      "\u001b[1m5/5\u001b[0m \u001b[32m━━━━━━━━━━━━━━━━━━━━\u001b[0m\u001b[37m\u001b[0m \u001b[1m0s\u001b[0m 3ms/step - loss: 0.0254 - root_mean_squared_error: 0.1592 - val_loss: 0.0428 - val_root_mean_squared_error: 0.2070\n",
      "Epoch 24/100\n",
      "\u001b[1m5/5\u001b[0m \u001b[32m━━━━━━━━━━━━━━━━━━━━\u001b[0m\u001b[37m\u001b[0m \u001b[1m0s\u001b[0m 3ms/step - loss: 0.0249 - root_mean_squared_error: 0.1576 - val_loss: 0.0429 - val_root_mean_squared_error: 0.2070\n",
      "Epoch 25/100\n",
      "\u001b[1m5/5\u001b[0m \u001b[32m━━━━━━━━━━━━━━━━━━━━\u001b[0m\u001b[37m\u001b[0m \u001b[1m0s\u001b[0m 3ms/step - loss: 0.0249 - root_mean_squared_error: 0.1578 - val_loss: 0.0430 - val_root_mean_squared_error: 0.2074\n",
      "Epoch 26/100\n",
      "\u001b[1m5/5\u001b[0m \u001b[32m━━━━━━━━━━━━━━━━━━━━\u001b[0m\u001b[37m\u001b[0m \u001b[1m0s\u001b[0m 3ms/step - loss: 0.0238 - root_mean_squared_error: 0.1543 - val_loss: 0.0431 - val_root_mean_squared_error: 0.2076\n",
      "Epoch 27/100\n",
      "\u001b[1m5/5\u001b[0m \u001b[32m━━━━━━━━━━━━━━━━━━━━\u001b[0m\u001b[37m\u001b[0m \u001b[1m0s\u001b[0m 3ms/step - loss: 0.0239 - root_mean_squared_error: 0.1544 - val_loss: 0.0434 - val_root_mean_squared_error: 0.2084\n",
      "Epoch 28/100\n",
      "\u001b[1m5/5\u001b[0m \u001b[32m━━━━━━━━━━━━━━━━━━━━\u001b[0m\u001b[37m\u001b[0m \u001b[1m0s\u001b[0m 3ms/step - loss: 0.0248 - root_mean_squared_error: 0.1575 - val_loss: 0.0435 - val_root_mean_squared_error: 0.2086\n",
      "Epoch 29/100\n",
      "\u001b[1m5/5\u001b[0m \u001b[32m━━━━━━━━━━━━━━━━━━━━\u001b[0m\u001b[37m\u001b[0m \u001b[1m0s\u001b[0m 3ms/step - loss: 0.0246 - root_mean_squared_error: 0.1567 - val_loss: 0.0432 - val_root_mean_squared_error: 0.2078\n",
      "Epoch 30/100\n",
      "\u001b[1m5/5\u001b[0m \u001b[32m━━━━━━━━━━━━━━━━━━━━\u001b[0m\u001b[37m\u001b[0m \u001b[1m0s\u001b[0m 3ms/step - loss: 0.0240 - root_mean_squared_error: 0.1549 - val_loss: 0.0432 - val_root_mean_squared_error: 0.2077\n",
      "Epoch 31/100\n",
      "\u001b[1m5/5\u001b[0m \u001b[32m━━━━━━━━━━━━━━━━━━━━\u001b[0m\u001b[37m\u001b[0m \u001b[1m0s\u001b[0m 3ms/step - loss: 0.0245 - root_mean_squared_error: 0.1565 - val_loss: 0.0432 - val_root_mean_squared_error: 0.2078\n",
      "Epoch 32/100\n",
      "\u001b[1m5/5\u001b[0m \u001b[32m━━━━━━━━━━━━━━━━━━━━\u001b[0m\u001b[37m\u001b[0m \u001b[1m0s\u001b[0m 3ms/step - loss: 0.0244 - root_mean_squared_error: 0.1563 - val_loss: 0.0432 - val_root_mean_squared_error: 0.2078\n",
      "Epoch 33/100\n",
      "\u001b[1m5/5\u001b[0m \u001b[32m━━━━━━━━━━━━━━━━━━━━\u001b[0m\u001b[37m\u001b[0m \u001b[1m0s\u001b[0m 3ms/step - loss: 0.0252 - root_mean_squared_error: 0.1586 - val_loss: 0.0427 - val_root_mean_squared_error: 0.2066\n",
      "Epoch 34/100\n",
      "\u001b[1m5/5\u001b[0m \u001b[32m━━━━━━━━━━━━━━━━━━━━\u001b[0m\u001b[37m\u001b[0m \u001b[1m0s\u001b[0m 3ms/step - loss: 0.0243 - root_mean_squared_error: 0.1560 - val_loss: 0.0416 - val_root_mean_squared_error: 0.2039\n",
      "Epoch 35/100\n",
      "\u001b[1m5/5\u001b[0m \u001b[32m━━━━━━━━━━━━━━━━━━━━\u001b[0m\u001b[37m\u001b[0m \u001b[1m0s\u001b[0m 4ms/step - loss: 0.0238 - root_mean_squared_error: 0.1543 - val_loss: 0.0413 - val_root_mean_squared_error: 0.2032\n",
      "Epoch 36/100\n",
      "\u001b[1m5/5\u001b[0m \u001b[32m━━━━━━━━━━━━━━━━━━━━\u001b[0m\u001b[37m\u001b[0m \u001b[1m0s\u001b[0m 3ms/step - loss: 0.0255 - root_mean_squared_error: 0.1595 - val_loss: 0.0413 - val_root_mean_squared_error: 0.2033\n",
      "Epoch 37/100\n",
      "\u001b[1m5/5\u001b[0m \u001b[32m━━━━━━━━━━━━━━━━━━━━\u001b[0m\u001b[37m\u001b[0m \u001b[1m0s\u001b[0m 3ms/step - loss: 0.0238 - root_mean_squared_error: 0.1542 - val_loss: 0.0419 - val_root_mean_squared_error: 0.2046\n",
      "Epoch 38/100\n",
      "\u001b[1m5/5\u001b[0m \u001b[32m━━━━━━━━━━━━━━━━━━━━\u001b[0m\u001b[37m\u001b[0m \u001b[1m0s\u001b[0m 3ms/step - loss: 0.0238 - root_mean_squared_error: 0.1543 - val_loss: 0.0422 - val_root_mean_squared_error: 0.2055\n",
      "Epoch 39/100\n",
      "\u001b[1m5/5\u001b[0m \u001b[32m━━━━━━━━━━━━━━━━━━━━\u001b[0m\u001b[37m\u001b[0m \u001b[1m0s\u001b[0m 3ms/step - loss: 0.0241 - root_mean_squared_error: 0.1551 - val_loss: 0.0429 - val_root_mean_squared_error: 0.2072\n",
      "Epoch 40/100\n",
      "\u001b[1m5/5\u001b[0m \u001b[32m━━━━━━━━━━━━━━━━━━━━\u001b[0m\u001b[37m\u001b[0m \u001b[1m0s\u001b[0m 3ms/step - loss: 0.0234 - root_mean_squared_error: 0.1529 - val_loss: 0.0440 - val_root_mean_squared_error: 0.2097\n",
      "Epoch 41/100\n",
      "\u001b[1m5/5\u001b[0m \u001b[32m━━━━━━━━━━━━━━━━━━━━\u001b[0m\u001b[37m\u001b[0m \u001b[1m0s\u001b[0m 3ms/step - loss: 0.0239 - root_mean_squared_error: 0.1545 - val_loss: 0.0439 - val_root_mean_squared_error: 0.2096\n",
      "Epoch 42/100\n",
      "\u001b[1m5/5\u001b[0m \u001b[32m━━━━━━━━━━━━━━━━━━━━\u001b[0m\u001b[37m\u001b[0m \u001b[1m0s\u001b[0m 3ms/step - loss: 0.0241 - root_mean_squared_error: 0.1553 - val_loss: 0.0432 - val_root_mean_squared_error: 0.2078\n",
      "Epoch 43/100\n",
      "\u001b[1m5/5\u001b[0m \u001b[32m━━━━━━━━━━━━━━━━━━━━\u001b[0m\u001b[37m\u001b[0m \u001b[1m0s\u001b[0m 3ms/step - loss: 0.0241 - root_mean_squared_error: 0.1551 - val_loss: 0.0418 - val_root_mean_squared_error: 0.2046\n",
      "Epoch 44/100\n"
     ]
    },
    {
     "name": "stdout",
     "output_type": "stream",
     "text": [
      "\u001b[1m5/5\u001b[0m \u001b[32m━━━━━━━━━━━━━━━━━━━━\u001b[0m\u001b[37m\u001b[0m \u001b[1m0s\u001b[0m 3ms/step - loss: 0.0232 - root_mean_squared_error: 0.1523 - val_loss: 0.0416 - val_root_mean_squared_error: 0.2039\n",
      "Epoch 45/100\n",
      "\u001b[1m5/5\u001b[0m \u001b[32m━━━━━━━━━━━━━━━━━━━━\u001b[0m\u001b[37m\u001b[0m \u001b[1m0s\u001b[0m 3ms/step - loss: 0.0241 - root_mean_squared_error: 0.1552 - val_loss: 0.0419 - val_root_mean_squared_error: 0.2047\n",
      "Epoch 46/100\n",
      "\u001b[1m5/5\u001b[0m \u001b[32m━━━━━━━━━━━━━━━━━━━━\u001b[0m\u001b[37m\u001b[0m \u001b[1m0s\u001b[0m 3ms/step - loss: 0.0234 - root_mean_squared_error: 0.1530 - val_loss: 0.0421 - val_root_mean_squared_error: 0.2052\n",
      "Epoch 47/100\n",
      "\u001b[1m5/5\u001b[0m \u001b[32m━━━━━━━━━━━━━━━━━━━━\u001b[0m\u001b[37m\u001b[0m \u001b[1m0s\u001b[0m 3ms/step - loss: 0.0234 - root_mean_squared_error: 0.1529 - val_loss: 0.0414 - val_root_mean_squared_error: 0.2035\n",
      "Epoch 48/100\n",
      "\u001b[1m5/5\u001b[0m \u001b[32m━━━━━━━━━━━━━━━━━━━━\u001b[0m\u001b[37m\u001b[0m \u001b[1m0s\u001b[0m 3ms/step - loss: 0.0237 - root_mean_squared_error: 0.1540 - val_loss: 0.0417 - val_root_mean_squared_error: 0.2042\n",
      "Epoch 49/100\n",
      "\u001b[1m5/5\u001b[0m \u001b[32m━━━━━━━━━━━━━━━━━━━━\u001b[0m\u001b[37m\u001b[0m \u001b[1m0s\u001b[0m 3ms/step - loss: 0.0240 - root_mean_squared_error: 0.1549 - val_loss: 0.0426 - val_root_mean_squared_error: 0.2063\n",
      "Epoch 50/100\n",
      "\u001b[1m5/5\u001b[0m \u001b[32m━━━━━━━━━━━━━━━━━━━━\u001b[0m\u001b[37m\u001b[0m \u001b[1m0s\u001b[0m 3ms/step - loss: 0.0238 - root_mean_squared_error: 0.1542 - val_loss: 0.0430 - val_root_mean_squared_error: 0.2074\n",
      "Epoch 51/100\n",
      "\u001b[1m5/5\u001b[0m \u001b[32m━━━━━━━━━━━━━━━━━━━━\u001b[0m\u001b[37m\u001b[0m \u001b[1m0s\u001b[0m 3ms/step - loss: 0.0235 - root_mean_squared_error: 0.1533 - val_loss: 0.0433 - val_root_mean_squared_error: 0.2081\n",
      "Epoch 52/100\n",
      "\u001b[1m5/5\u001b[0m \u001b[32m━━━━━━━━━━━━━━━━━━━━\u001b[0m\u001b[37m\u001b[0m \u001b[1m0s\u001b[0m 3ms/step - loss: 0.0241 - root_mean_squared_error: 0.1552 - val_loss: 0.0427 - val_root_mean_squared_error: 0.2067\n",
      "Epoch 53/100\n",
      "\u001b[1m5/5\u001b[0m \u001b[32m━━━━━━━━━━━━━━━━━━━━\u001b[0m\u001b[37m\u001b[0m \u001b[1m0s\u001b[0m 2ms/step - loss: 0.0234 - root_mean_squared_error: 0.1529 - val_loss: 0.0418 - val_root_mean_squared_error: 0.2045\n",
      "Epoch 54/100\n",
      "\u001b[1m5/5\u001b[0m \u001b[32m━━━━━━━━━━━━━━━━━━━━\u001b[0m\u001b[37m\u001b[0m \u001b[1m0s\u001b[0m 2ms/step - loss: 0.0234 - root_mean_squared_error: 0.1528 - val_loss: 0.0416 - val_root_mean_squared_error: 0.2039\n",
      "Epoch 55/100\n",
      "\u001b[1m5/5\u001b[0m \u001b[32m━━━━━━━━━━━━━━━━━━━━\u001b[0m\u001b[37m\u001b[0m \u001b[1m0s\u001b[0m 3ms/step - loss: 0.0233 - root_mean_squared_error: 0.1527 - val_loss: 0.0416 - val_root_mean_squared_error: 0.2041\n",
      "Epoch 56/100\n",
      "\u001b[1m5/5\u001b[0m \u001b[32m━━━━━━━━━━━━━━━━━━━━\u001b[0m\u001b[37m\u001b[0m \u001b[1m0s\u001b[0m 2ms/step - loss: 0.0239 - root_mean_squared_error: 0.1545 - val_loss: 0.0415 - val_root_mean_squared_error: 0.2036\n",
      "Epoch 57/100\n",
      "\u001b[1m5/5\u001b[0m \u001b[32m━━━━━━━━━━━━━━━━━━━━\u001b[0m\u001b[37m\u001b[0m \u001b[1m0s\u001b[0m 3ms/step - loss: 0.0235 - root_mean_squared_error: 0.1532 - val_loss: 0.0413 - val_root_mean_squared_error: 0.2033\n",
      "Epoch 58/100\n",
      "\u001b[1m5/5\u001b[0m \u001b[32m━━━━━━━━━━━━━━━━━━━━\u001b[0m\u001b[37m\u001b[0m \u001b[1m0s\u001b[0m 3ms/step - loss: 0.0235 - root_mean_squared_error: 0.1534 - val_loss: 0.0415 - val_root_mean_squared_error: 0.2037\n",
      "Epoch 59/100\n",
      "\u001b[1m5/5\u001b[0m \u001b[32m━━━━━━━━━━━━━━━━━━━━\u001b[0m\u001b[37m\u001b[0m \u001b[1m0s\u001b[0m 2ms/step - loss: 0.0225 - root_mean_squared_error: 0.1499 - val_loss: 0.0418 - val_root_mean_squared_error: 0.2044\n",
      "Epoch 60/100\n",
      "\u001b[1m5/5\u001b[0m \u001b[32m━━━━━━━━━━━━━━━━━━━━\u001b[0m\u001b[37m\u001b[0m \u001b[1m0s\u001b[0m 3ms/step - loss: 0.0234 - root_mean_squared_error: 0.1530 - val_loss: 0.0417 - val_root_mean_squared_error: 0.2042\n",
      "Epoch 61/100\n",
      "\u001b[1m5/5\u001b[0m \u001b[32m━━━━━━━━━━━━━━━━━━━━\u001b[0m\u001b[37m\u001b[0m \u001b[1m0s\u001b[0m 3ms/step - loss: 0.0234 - root_mean_squared_error: 0.1530 - val_loss: 0.0423 - val_root_mean_squared_error: 0.2056\n",
      "Epoch 62/100\n",
      "\u001b[1m5/5\u001b[0m \u001b[32m━━━━━━━━━━━━━━━━━━━━\u001b[0m\u001b[37m\u001b[0m \u001b[1m0s\u001b[0m 3ms/step - loss: 0.0226 - root_mean_squared_error: 0.1504 - val_loss: 0.0420 - val_root_mean_squared_error: 0.2048\n",
      "Epoch 63/100\n",
      "\u001b[1m5/5\u001b[0m \u001b[32m━━━━━━━━━━━━━━━━━━━━\u001b[0m\u001b[37m\u001b[0m \u001b[1m0s\u001b[0m 3ms/step - loss: 0.0231 - root_mean_squared_error: 0.1521 - val_loss: 0.0417 - val_root_mean_squared_error: 0.2041\n",
      "Epoch 64/100\n",
      "\u001b[1m5/5\u001b[0m \u001b[32m━━━━━━━━━━━━━━━━━━━━\u001b[0m\u001b[37m\u001b[0m \u001b[1m0s\u001b[0m 3ms/step - loss: 0.0228 - root_mean_squared_error: 0.1511 - val_loss: 0.0415 - val_root_mean_squared_error: 0.2038\n",
      "Epoch 65/100\n",
      "\u001b[1m5/5\u001b[0m \u001b[32m━━━━━━━━━━━━━━━━━━━━\u001b[0m\u001b[37m\u001b[0m \u001b[1m0s\u001b[0m 2ms/step - loss: 0.0231 - root_mean_squared_error: 0.1519 - val_loss: 0.0415 - val_root_mean_squared_error: 0.2037\n",
      "Epoch 66/100\n",
      "\u001b[1m5/5\u001b[0m \u001b[32m━━━━━━━━━━━━━━━━━━━━\u001b[0m\u001b[37m\u001b[0m \u001b[1m0s\u001b[0m 3ms/step - loss: 0.0230 - root_mean_squared_error: 0.1516 - val_loss: 0.0414 - val_root_mean_squared_error: 0.2034\n",
      "Epoch 67/100\n",
      "\u001b[1m5/5\u001b[0m \u001b[32m━━━━━━━━━━━━━━━━━━━━\u001b[0m\u001b[37m\u001b[0m \u001b[1m0s\u001b[0m 3ms/step - loss: 0.0224 - root_mean_squared_error: 0.1498 - val_loss: 0.0410 - val_root_mean_squared_error: 0.2024\n",
      "Epoch 68/100\n",
      "\u001b[1m5/5\u001b[0m \u001b[32m━━━━━━━━━━━━━━━━━━━━\u001b[0m\u001b[37m\u001b[0m \u001b[1m0s\u001b[0m 3ms/step - loss: 0.0225 - root_mean_squared_error: 0.1499 - val_loss: 0.0407 - val_root_mean_squared_error: 0.2018\n",
      "Epoch 69/100\n",
      "\u001b[1m5/5\u001b[0m \u001b[32m━━━━━━━━━━━━━━━━━━━━\u001b[0m\u001b[37m\u001b[0m \u001b[1m0s\u001b[0m 3ms/step - loss: 0.0230 - root_mean_squared_error: 0.1517 - val_loss: 0.0407 - val_root_mean_squared_error: 0.2017\n",
      "Epoch 70/100\n",
      "\u001b[1m5/5\u001b[0m \u001b[32m━━━━━━━━━━━━━━━━━━━━\u001b[0m\u001b[37m\u001b[0m \u001b[1m0s\u001b[0m 3ms/step - loss: 0.0224 - root_mean_squared_error: 0.1495 - val_loss: 0.0414 - val_root_mean_squared_error: 0.2035\n",
      "Epoch 71/100\n",
      "\u001b[1m5/5\u001b[0m \u001b[32m━━━━━━━━━━━━━━━━━━━━\u001b[0m\u001b[37m\u001b[0m \u001b[1m0s\u001b[0m 3ms/step - loss: 0.0223 - root_mean_squared_error: 0.1493 - val_loss: 0.0419 - val_root_mean_squared_error: 0.2047\n",
      "Epoch 72/100\n",
      "\u001b[1m5/5\u001b[0m \u001b[32m━━━━━━━━━━━━━━━━━━━━\u001b[0m\u001b[37m\u001b[0m \u001b[1m0s\u001b[0m 3ms/step - loss: 0.0225 - root_mean_squared_error: 0.1500 - val_loss: 0.0421 - val_root_mean_squared_error: 0.2053\n",
      "Epoch 73/100\n",
      "\u001b[1m5/5\u001b[0m \u001b[32m━━━━━━━━━━━━━━━━━━━━\u001b[0m\u001b[37m\u001b[0m \u001b[1m0s\u001b[0m 3ms/step - loss: 0.0229 - root_mean_squared_error: 0.1511 - val_loss: 0.0417 - val_root_mean_squared_error: 0.2042\n",
      "Epoch 74/100\n",
      "\u001b[1m5/5\u001b[0m \u001b[32m━━━━━━━━━━━━━━━━━━━━\u001b[0m\u001b[37m\u001b[0m \u001b[1m0s\u001b[0m 3ms/step - loss: 0.0229 - root_mean_squared_error: 0.1514 - val_loss: 0.0414 - val_root_mean_squared_error: 0.2035\n",
      "Epoch 75/100\n",
      "\u001b[1m5/5\u001b[0m \u001b[32m━━━━━━━━━━━━━━━━━━━━\u001b[0m\u001b[37m\u001b[0m \u001b[1m0s\u001b[0m 3ms/step - loss: 0.0231 - root_mean_squared_error: 0.1518 - val_loss: 0.0419 - val_root_mean_squared_error: 0.2046\n",
      "Epoch 76/100\n",
      "\u001b[1m5/5\u001b[0m \u001b[32m━━━━━━━━━━━━━━━━━━━━\u001b[0m\u001b[37m\u001b[0m \u001b[1m0s\u001b[0m 3ms/step - loss: 0.0220 - root_mean_squared_error: 0.1482 - val_loss: 0.0427 - val_root_mean_squared_error: 0.2066\n",
      "Epoch 77/100\n",
      "\u001b[1m5/5\u001b[0m \u001b[32m━━━━━━━━━━━━━━━━━━━━\u001b[0m\u001b[37m\u001b[0m \u001b[1m0s\u001b[0m 3ms/step - loss: 0.0226 - root_mean_squared_error: 0.1503 - val_loss: 0.0426 - val_root_mean_squared_error: 0.2064\n",
      "Epoch 78/100\n",
      "\u001b[1m5/5\u001b[0m \u001b[32m━━━━━━━━━━━━━━━━━━━━\u001b[0m\u001b[37m\u001b[0m \u001b[1m0s\u001b[0m 2ms/step - loss: 0.0215 - root_mean_squared_error: 0.1467 - val_loss: 0.0428 - val_root_mean_squared_error: 0.2069\n",
      "Epoch 79/100\n",
      "\u001b[1m5/5\u001b[0m \u001b[32m━━━━━━━━━━━━━━━━━━━━\u001b[0m\u001b[37m\u001b[0m \u001b[1m0s\u001b[0m 3ms/step - loss: 0.0222 - root_mean_squared_error: 0.1491 - val_loss: 0.0422 - val_root_mean_squared_error: 0.2053\n",
      "Epoch 80/100\n",
      "\u001b[1m5/5\u001b[0m \u001b[32m━━━━━━━━━━━━━━━━━━━━\u001b[0m\u001b[37m\u001b[0m \u001b[1m0s\u001b[0m 3ms/step - loss: 0.0223 - root_mean_squared_error: 0.1492 - val_loss: 0.0416 - val_root_mean_squared_error: 0.2040\n",
      "Epoch 81/100\n",
      "\u001b[1m5/5\u001b[0m \u001b[32m━━━━━━━━━━━━━━━━━━━━\u001b[0m\u001b[37m\u001b[0m \u001b[1m0s\u001b[0m 3ms/step - loss: 0.0226 - root_mean_squared_error: 0.1502 - val_loss: 0.0415 - val_root_mean_squared_error: 0.2036\n",
      "Epoch 82/100\n",
      "\u001b[1m5/5\u001b[0m \u001b[32m━━━━━━━━━━━━━━━━━━━━\u001b[0m\u001b[37m\u001b[0m \u001b[1m0s\u001b[0m 3ms/step - loss: 0.0214 - root_mean_squared_error: 0.1462 - val_loss: 0.0422 - val_root_mean_squared_error: 0.2055\n",
      "Epoch 83/100\n",
      "\u001b[1m5/5\u001b[0m \u001b[32m━━━━━━━━━━━━━━━━━━━━\u001b[0m\u001b[37m\u001b[0m \u001b[1m0s\u001b[0m 3ms/step - loss: 0.0221 - root_mean_squared_error: 0.1486 - val_loss: 0.0424 - val_root_mean_squared_error: 0.2060\n",
      "Epoch 84/100\n",
      "\u001b[1m5/5\u001b[0m \u001b[32m━━━━━━━━━━━━━━━━━━━━\u001b[0m\u001b[37m\u001b[0m \u001b[1m0s\u001b[0m 3ms/step - loss: 0.0212 - root_mean_squared_error: 0.1455 - val_loss: 0.0420 - val_root_mean_squared_error: 0.2048\n",
      "Epoch 85/100\n",
      "\u001b[1m5/5\u001b[0m \u001b[32m━━━━━━━━━━━━━━━━━━━━\u001b[0m\u001b[37m\u001b[0m \u001b[1m0s\u001b[0m 3ms/step - loss: 0.0218 - root_mean_squared_error: 0.1477 - val_loss: 0.0412 - val_root_mean_squared_error: 0.2030\n",
      "Epoch 86/100\n",
      "\u001b[1m5/5\u001b[0m \u001b[32m━━━━━━━━━━━━━━━━━━━━\u001b[0m\u001b[37m\u001b[0m \u001b[1m0s\u001b[0m 3ms/step - loss: 0.0223 - root_mean_squared_error: 0.1494 - val_loss: 0.0411 - val_root_mean_squared_error: 0.2028\n",
      "Epoch 87/100\n"
     ]
    },
    {
     "name": "stdout",
     "output_type": "stream",
     "text": [
      "\u001b[1m5/5\u001b[0m \u001b[32m━━━━━━━━━━━━━━━━━━━━\u001b[0m\u001b[37m\u001b[0m \u001b[1m0s\u001b[0m 3ms/step - loss: 0.0225 - root_mean_squared_error: 0.1501 - val_loss: 0.0411 - val_root_mean_squared_error: 0.2027\n",
      "Epoch 88/100\n",
      "\u001b[1m5/5\u001b[0m \u001b[32m━━━━━━━━━━━━━━━━━━━━\u001b[0m\u001b[37m\u001b[0m \u001b[1m0s\u001b[0m 3ms/step - loss: 0.0218 - root_mean_squared_error: 0.1475 - val_loss: 0.0416 - val_root_mean_squared_error: 0.2039\n",
      "Epoch 89/100\n",
      "\u001b[1m5/5\u001b[0m \u001b[32m━━━━━━━━━━━━━━━━━━━━\u001b[0m\u001b[37m\u001b[0m \u001b[1m0s\u001b[0m 3ms/step - loss: 0.0218 - root_mean_squared_error: 0.1476 - val_loss: 0.0411 - val_root_mean_squared_error: 0.2027\n",
      "Epoch 90/100\n",
      "\u001b[1m5/5\u001b[0m \u001b[32m━━━━━━━━━━━━━━━━━━━━\u001b[0m\u001b[37m\u001b[0m \u001b[1m0s\u001b[0m 3ms/step - loss: 0.0224 - root_mean_squared_error: 0.1495 - val_loss: 0.0413 - val_root_mean_squared_error: 0.2032\n",
      "Epoch 91/100\n",
      "\u001b[1m5/5\u001b[0m \u001b[32m━━━━━━━━━━━━━━━━━━━━\u001b[0m\u001b[37m\u001b[0m \u001b[1m0s\u001b[0m 2ms/step - loss: 0.0219 - root_mean_squared_error: 0.1478 - val_loss: 0.0418 - val_root_mean_squared_error: 0.2044\n",
      "Epoch 92/100\n",
      "\u001b[1m5/5\u001b[0m \u001b[32m━━━━━━━━━━━━━━━━━━━━\u001b[0m\u001b[37m\u001b[0m \u001b[1m0s\u001b[0m 3ms/step - loss: 0.0213 - root_mean_squared_error: 0.1459 - val_loss: 0.0414 - val_root_mean_squared_error: 0.2034\n",
      "Epoch 93/100\n",
      "\u001b[1m5/5\u001b[0m \u001b[32m━━━━━━━━━━━━━━━━━━━━\u001b[0m\u001b[37m\u001b[0m \u001b[1m0s\u001b[0m 2ms/step - loss: 0.0211 - root_mean_squared_error: 0.1451 - val_loss: 0.0408 - val_root_mean_squared_error: 0.2021\n",
      "Epoch 94/100\n",
      "\u001b[1m5/5\u001b[0m \u001b[32m━━━━━━━━━━━━━━━━━━━━\u001b[0m\u001b[37m\u001b[0m \u001b[1m0s\u001b[0m 3ms/step - loss: 0.0214 - root_mean_squared_error: 0.1463 - val_loss: 0.0410 - val_root_mean_squared_error: 0.2024\n",
      "Epoch 95/100\n",
      "\u001b[1m5/5\u001b[0m \u001b[32m━━━━━━━━━━━━━━━━━━━━\u001b[0m\u001b[37m\u001b[0m \u001b[1m0s\u001b[0m 3ms/step - loss: 0.0208 - root_mean_squared_error: 0.1441 - val_loss: 0.0413 - val_root_mean_squared_error: 0.2033\n",
      "Epoch 96/100\n",
      "\u001b[1m5/5\u001b[0m \u001b[32m━━━━━━━━━━━━━━━━━━━━\u001b[0m\u001b[37m\u001b[0m \u001b[1m0s\u001b[0m 3ms/step - loss: 0.0217 - root_mean_squared_error: 0.1475 - val_loss: 0.0415 - val_root_mean_squared_error: 0.2037\n",
      "Epoch 97/100\n",
      "\u001b[1m5/5\u001b[0m \u001b[32m━━━━━━━━━━━━━━━━━━━━\u001b[0m\u001b[37m\u001b[0m \u001b[1m0s\u001b[0m 3ms/step - loss: 0.0209 - root_mean_squared_error: 0.1447 - val_loss: 0.0409 - val_root_mean_squared_error: 0.2023\n",
      "Epoch 98/100\n",
      "\u001b[1m5/5\u001b[0m \u001b[32m━━━━━━━━━━━━━━━━━━━━\u001b[0m\u001b[37m\u001b[0m \u001b[1m0s\u001b[0m 2ms/step - loss: 0.0214 - root_mean_squared_error: 0.1463 - val_loss: 0.0415 - val_root_mean_squared_error: 0.2037\n",
      "Epoch 99/100\n",
      "\u001b[1m5/5\u001b[0m \u001b[32m━━━━━━━━━━━━━━━━━━━━\u001b[0m\u001b[37m\u001b[0m \u001b[1m0s\u001b[0m 2ms/step - loss: 0.0214 - root_mean_squared_error: 0.1462 - val_loss: 0.0429 - val_root_mean_squared_error: 0.2072\n",
      "Epoch 100/100\n",
      "\u001b[1m5/5\u001b[0m \u001b[32m━━━━━━━━━━━━━━━━━━━━\u001b[0m\u001b[37m\u001b[0m \u001b[1m0s\u001b[0m 3ms/step - loss: 0.0209 - root_mean_squared_error: 0.1446 - val_loss: 0.0427 - val_root_mean_squared_error: 0.2067\n"
     ]
    }
   ],
   "source": [
    "# Fit the CNN model\n",
    "history = cnn_model.fit(features, y_lstm, epochs=100, batch_size=32, validation_split=0.2)\n"
   ]
  },
  {
   "cell_type": "code",
   "execution_count": 14,
   "id": "86a8e4b1",
   "metadata": {},
   "outputs": [
    {
     "name": "stdout",
     "output_type": "stream",
     "text": [
      "Root Mean Squared Error (RMSE):\n",
      "[0.21015258133411407, 0.1974484920501709, 0.18307463824748993, 0.1696324497461319, 0.16351532936096191, 0.16081549227237701, 0.15935295820236206, 0.1593688726425171, 0.15948256850242615, 0.15907588601112366, 0.1588820368051529, 0.1587647944688797, 0.15835531055927277, 0.1579224318265915, 0.1575523167848587, 0.1574152708053589, 0.1575595587491989, 0.15737885236740112, 0.15721046924591064, 0.15717828273773193, 0.1571837216615677, 0.15703554451465607, 0.1570475846529007, 0.1567768156528473, 0.1563262641429901, 0.15599703788757324, 0.1562013328075409, 0.156462624669075, 0.1561870574951172, 0.15626657009124756, 0.15639406442642212, 0.1559915691614151, 0.1555059403181076, 0.15544088184833527, 0.15534618496894836, 0.1550048142671585, 0.15523554384708405, 0.15502262115478516, 0.15425065159797668, 0.15461213886737823, 0.15484896302223206, 0.154578298330307, 0.15433728694915771, 0.15476319193840027, 0.15486527979373932, 0.15392857789993286, 0.15347258746623993, 0.15323078632354736, 0.15341903269290924, 0.1532057374715805, 0.15295499563217163, 0.15303482115268707, 0.15231552720069885, 0.151835635304451, 0.15165817737579346, 0.1516329050064087, 0.15151362121105194, 0.15165898203849792, 0.15124788880348206, 0.1514134705066681, 0.15061531960964203, 0.1511375904083252, 0.15116919577121735, 0.1509108990430832, 0.15050214529037476, 0.15011051297187805, 0.14995460212230682, 0.15015390515327454, 0.1506720334291458, 0.15020544826984406, 0.14970415830612183, 0.14944545924663544, 0.14944081008434296, 0.14885327219963074, 0.1485479474067688, 0.1487971395254135, 0.14914657175540924, 0.1489047259092331, 0.14968270063400269, 0.14934208989143372, 0.14958152174949646, 0.14844858646392822, 0.14798443019390106, 0.14786142110824585, 0.1482306718826294, 0.14956612884998322, 0.14882305264472961, 0.14788104593753815, 0.14787474274635315, 0.14735934138298035, 0.14733853936195374, 0.1473713517189026, 0.14694873988628387, 0.1465974748134613, 0.14620597660541534, 0.14609786868095398, 0.1464746594429016, 0.1461571902036667, 0.14585305750370026, 0.14595535397529602]\n"
     ]
    }
   ],
   "source": [
    "# Display RMSE\n",
    "print(\"Root Mean Squared Error (RMSE):\")\n",
    "print(history.history['root_mean_squared_error'])"
   ]
  },
  {
   "cell_type": "code",
   "execution_count": 20,
   "id": "07c62fd0",
   "metadata": {},
   "outputs": [
    {
     "name": "stdout",
     "output_type": "stream",
     "text": [
      "\u001b[1m6/6\u001b[0m \u001b[32m━━━━━━━━━━━━━━━━━━━━\u001b[0m\u001b[37m\u001b[0m \u001b[1m0s\u001b[0m 4ms/step \n",
      "Root Mean Squared Error (RMSE) in original units: 14.949146403338714\n"
     ]
    }
   ],
   "source": [
    "# Predict using the trained CNN model\n",
    "predicted_values = cnn_model.predict(features)\n",
    "\n",
    "# Inverse transform the predicted values and the actual values\n",
    "predicted_values = scaler.inverse_transform(predicted_values)\n",
    "y_lstm_original = scaler.inverse_transform(y_lstm)\n",
    "\n",
    "# Calculate RMSE in original units\n",
    "mse = np.mean((predicted_values - y_lstm_original)**2)\n",
    "rmse = np.sqrt(mse)\n",
    "print(\"Root Mean Squared Error (RMSE) in original units:\", rmse)\n"
   ]
  },
  {
   "cell_type": "code",
   "execution_count": null,
   "id": "c79c3654",
   "metadata": {},
   "outputs": [],
   "source": []
  }
 ],
 "metadata": {
  "kernelspec": {
   "display_name": "Python 3 (ipykernel)",
   "language": "python",
   "name": "python3"
  },
  "language_info": {
   "codemirror_mode": {
    "name": "ipython",
    "version": 3
   },
   "file_extension": ".py",
   "mimetype": "text/x-python",
   "name": "python",
   "nbconvert_exporter": "python",
   "pygments_lexer": "ipython3",
   "version": "3.11.5"
  }
 },
 "nbformat": 4,
 "nbformat_minor": 5
}
